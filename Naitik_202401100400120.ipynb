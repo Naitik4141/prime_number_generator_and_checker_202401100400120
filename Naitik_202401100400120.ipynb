{
  "nbformat": 4,
  "nbformat_minor": 0,
  "metadata": {
    "colab": {
      "provenance": []
    },
    "kernelspec": {
      "name": "python3",
      "display_name": "Python 3"
    },
    "language_info": {
      "name": "python"
    }
  },
  "cells": [
    {
      "cell_type": "code",
      "execution_count": 4,
      "metadata": {
        "colab": {
          "base_uri": "https://localhost:8080/"
        },
        "id": "GJY7XU5TOeq7",
        "outputId": "56c471c3-e53c-4d6c-baae-bbc743c58112"
      },
      "outputs": [
        {
          "output_type": "stream",
          "name": "stdout",
          "text": [
            "Enter the limit for prime generation: 7\n",
            "Prime numbers up to 7 : [2, 3, 5, 7]\n",
            "Enter a number to check if it's prime: 1\n",
            "1 is not prime\n"
          ]
        }
      ],
      "source": [
        "def is_prime(n):\n",
        "    \"\"\"Check if a number is prime.\"\"\"\n",
        "    if n < 2:\n",
        "        return False  # Numbers less than 2 are not prime\n",
        "    for i in range(2, int(n ** 0.5) + 1):  # Check divisibility up to the square root of n\n",
        "        if n % i == 0:\n",
        "            return False  # If divisible, not a prime number\n",
        "    return True  # If no divisors found, it's prime\n",
        "\n",
        "def prime_generator(limit):\n",
        "    \"\"\"Generate prime numbers up to a given limit.\"\"\"\n",
        "    for num in range(2, limit + 1):  # Iterate from 2 to the given limit\n",
        "        if is_prime(num):  # Check if the number is prime\n",
        "            yield num  # Yield the prime number\n",
        "\n",
        "# Example usage\n",
        "if __name__ == \"__main__\":\n",
        "    limit = int(input(\"Enter the limit for prime generation: \"))  # Get user input for prime generation limit\n",
        "    print(\"Prime numbers up to\", limit, \":\", list(prime_generator(limit)))  # Print generated prime numbers\n",
        "\n",
        "    num = int(input(\"Enter a number to check if it's prime: \"))  # Get user input for prime check\n",
        "    print(f\"{num} is prime:\" if is_prime(num) else f\"{num} is not prime\")  # Print prime check result\n"
      ]
    }
  ]
}